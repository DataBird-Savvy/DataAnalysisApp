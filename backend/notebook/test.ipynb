{
 "cells": [
  {
   "cell_type": "code",
   "execution_count": 1,
   "metadata": {},
   "outputs": [
    {
     "name": "stderr",
     "output_type": "stream",
     "text": [
      "C:\\Users\\user\\AppData\\Roaming\\Python\\Python311\\site-packages\\pandas\\core\\arrays\\masked.py:60: UserWarning: Pandas requires version '1.3.6' or newer of 'bottleneck' (version '1.3.5' currently installed).\n",
      "  from pandas.core import (\n"
     ]
    }
   ],
   "source": [
    "import pandas as pd"
   ]
  },
  {
   "cell_type": "code",
   "execution_count": 22,
   "metadata": {},
   "outputs": [
    {
     "name": "stdout",
     "output_type": "stream",
     "text": [
      "<class 'pandas.core.frame.DataFrame'>\n",
      "RangeIndex: 40 entries, 0 to 39\n",
      "Data columns (total 10 columns):\n",
      " #   Column                       Non-Null Count  Dtype  \n",
      "---  ------                       --------------  -----  \n",
      " 0   Division                     40 non-null     object \n",
      " 1   Quarter                      40 non-null     object \n",
      " 2   Year                         40 non-null     int64  \n",
      " 3   Revenue_M                    40 non-null     float64\n",
      " 4   Operating_Costs_M            40 non-null     float64\n",
      " 5   Net_Profit_M                 40 non-null     float64\n",
      " 6   Employee_Count               40 non-null     int64  \n",
      " 7   RD_Investment_M              40 non-null     float64\n",
      " 8   Market_Share_Pct             32 non-null     float64\n",
      " 9   Customer_Satisfaction_Score  40 non-null     float64\n",
      "dtypes: float64(6), int64(2), object(2)\n",
      "memory usage: 3.3+ KB\n"
     ]
    }
   ],
   "source": [
    "financial_data=pd.read_csv(\"D:/EDrivebackup/brocamp/techTest/DataAnalysisApp/backend/data/wayne_financial_data.csv\")\n",
    "# wayne_financial_data.head()\n",
    "\n",
    "financial_data.info()"
   ]
  },
  {
   "cell_type": "code",
   "execution_count": 42,
   "metadata": {},
   "outputs": [
    {
     "data": {
      "text/plain": [
       "array([2023, 2024], dtype=int64)"
      ]
     },
     "execution_count": 42,
     "metadata": {},
     "output_type": "execute_result"
    }
   ],
   "source": [
    "financial_data['Year'].unique()"
   ]
  },
  {
   "cell_type": "code",
   "execution_count": 43,
   "metadata": {},
   "outputs": [
    {
     "data": {
      "text/html": [
       "<div>\n",
       "<style scoped>\n",
       "    .dataframe tbody tr th:only-of-type {\n",
       "        vertical-align: middle;\n",
       "    }\n",
       "\n",
       "    .dataframe tbody tr th {\n",
       "        vertical-align: top;\n",
       "    }\n",
       "\n",
       "    .dataframe thead th {\n",
       "        text-align: right;\n",
       "    }\n",
       "</style>\n",
       "<table border=\"1\" class=\"dataframe\">\n",
       "  <thead>\n",
       "    <tr style=\"text-align: right;\">\n",
       "      <th></th>\n",
       "      <th>Year</th>\n",
       "      <th>Quarter</th>\n",
       "      <th>Revenue_M</th>\n",
       "      <th>Net_Profit_M</th>\n",
       "    </tr>\n",
       "  </thead>\n",
       "  <tbody>\n",
       "    <tr>\n",
       "      <th>0</th>\n",
       "      <td>2023</td>\n",
       "      <td>Q1</td>\n",
       "      <td>5262.5</td>\n",
       "      <td>1170.0</td>\n",
       "    </tr>\n",
       "    <tr>\n",
       "      <th>1</th>\n",
       "      <td>2023</td>\n",
       "      <td>Q2</td>\n",
       "      <td>5793.2</td>\n",
       "      <td>1347.9</td>\n",
       "    </tr>\n",
       "    <tr>\n",
       "      <th>2</th>\n",
       "      <td>2023</td>\n",
       "      <td>Q3</td>\n",
       "      <td>6223.2</td>\n",
       "      <td>1466.5</td>\n",
       "    </tr>\n",
       "    <tr>\n",
       "      <th>3</th>\n",
       "      <td>2023</td>\n",
       "      <td>Q4</td>\n",
       "      <td>6943.1</td>\n",
       "      <td>1727.9</td>\n",
       "    </tr>\n",
       "    <tr>\n",
       "      <th>4</th>\n",
       "      <td>2024</td>\n",
       "      <td>Q1</td>\n",
       "      <td>6556.8</td>\n",
       "      <td>1594.2</td>\n",
       "    </tr>\n",
       "    <tr>\n",
       "      <th>5</th>\n",
       "      <td>2024</td>\n",
       "      <td>Q2</td>\n",
       "      <td>7323.1</td>\n",
       "      <td>1820.9</td>\n",
       "    </tr>\n",
       "    <tr>\n",
       "      <th>6</th>\n",
       "      <td>2024</td>\n",
       "      <td>Q3</td>\n",
       "      <td>7982.7</td>\n",
       "      <td>2044.2</td>\n",
       "    </tr>\n",
       "    <tr>\n",
       "      <th>7</th>\n",
       "      <td>2024</td>\n",
       "      <td>Q4</td>\n",
       "      <td>8597.8</td>\n",
       "      <td>2286.9</td>\n",
       "    </tr>\n",
       "  </tbody>\n",
       "</table>\n",
       "</div>"
      ],
      "text/plain": [
       "   Year Quarter  Revenue_M  Net_Profit_M\n",
       "0  2023      Q1     5262.5        1170.0\n",
       "1  2023      Q2     5793.2        1347.9\n",
       "2  2023      Q3     6223.2        1466.5\n",
       "3  2023      Q4     6943.1        1727.9\n",
       "4  2024      Q1     6556.8        1594.2\n",
       "5  2024      Q2     7323.1        1820.9\n",
       "6  2024      Q3     7982.7        2044.2\n",
       "7  2024      Q4     8597.8        2286.9"
      ]
     },
     "execution_count": 43,
     "metadata": {},
     "output_type": "execute_result"
    }
   ],
   "source": [
    "trend = (\n",
    "    financial_data.groupby([\"Year\", \"Quarter\"])[[\"Revenue_M\", \"Net_Profit_M\"]]\n",
    "    .sum()\n",
    "    .reset_index()\n",
    "    .sort_values(by=[\"Year\", \"Quarter\"])\n",
    ")\n",
    "trend\n",
    "\n"
   ]
  },
  {
   "cell_type": "code",
   "execution_count": 45,
   "metadata": {},
   "outputs": [
    {
     "data": {
      "image/png": "[encoded data removed]",
      "text/plain": [
       "<Figure size 500x300 with 1 Axes>"
      ]
     },
     "metadata": {},
     "output_type": "display_data"
    }
   ],
   "source": [
    "import matplotlib.pyplot as plt\n",
    "\n",
    "trend[\"Period\"] = trend[\"Quarter\"] + \" FY\" + trend[\"Year\"].astype(str)\n",
    "\n",
    "import matplotlib.pyplot as plt\n",
    "\n",
    "plt.figure(figsize=(5, 3))\n",
    "\n",
    "plt.plot(trend[\"Period\"], trend[\"Revenue_M\"], marker='o', label=\"Revenue_M\", color='navy')\n",
    "plt.plot(trend[\"Period\"], trend[\"Net_Profit_M\"], marker='s', label=\"Net_Profit_M\", color='orange')\n",
    "\n",
    "plt.title(\"Revenue & Profit Trend Over Time\")\n",
    "plt.xlabel(\"Quarter\")\n",
    "plt.ylabel(\"Amount (M)\")\n",
    "plt.xticks(rotation=45)\n",
    "plt.legend()\n",
    "plt.grid(True)\n",
    "plt.tight_layout()\n",
    "plt.show()\n",
    "\n"
   ]
  },
  {
   "cell_type": "code",
   "execution_count": 46,
   "metadata": {},
   "outputs": [],
   "source": [
    "financial_data[\"GVA\"] = financial_data[\"Revenue_M\"] - financial_data[\"Operating_Costs_M\"]"
   ]
  },
  {
   "cell_type": "code",
   "execution_count": 47,
   "metadata": {},
   "outputs": [
    {
     "data": {
      "text/html": [
       "<div>\n",
       "<style scoped>\n",
       "    .dataframe tbody tr th:only-of-type {\n",
       "        vertical-align: middle;\n",
       "    }\n",
       "\n",
       "    .dataframe tbody tr th {\n",
       "        vertical-align: top;\n",
       "    }\n",
       "\n",
       "    .dataframe thead th {\n",
       "        text-align: right;\n",
       "    }\n",
       "</style>\n",
       "<table border=\"1\" class=\"dataframe\">\n",
       "  <thead>\n",
       "    <tr style=\"text-align: right;\">\n",
       "      <th></th>\n",
       "      <th>Year</th>\n",
       "      <th>Quarter</th>\n",
       "      <th>Revenue_M</th>\n",
       "      <th>GVA</th>\n",
       "    </tr>\n",
       "  </thead>\n",
       "  <tbody>\n",
       "    <tr>\n",
       "      <th>0</th>\n",
       "      <td>2023</td>\n",
       "      <td>Q1</td>\n",
       "      <td>5262.5</td>\n",
       "      <td>1200.6</td>\n",
       "    </tr>\n",
       "    <tr>\n",
       "      <th>1</th>\n",
       "      <td>2023</td>\n",
       "      <td>Q2</td>\n",
       "      <td>5793.2</td>\n",
       "      <td>1382.5</td>\n",
       "    </tr>\n",
       "    <tr>\n",
       "      <th>2</th>\n",
       "      <td>2023</td>\n",
       "      <td>Q3</td>\n",
       "      <td>6223.2</td>\n",
       "      <td>1515.5</td>\n",
       "    </tr>\n",
       "    <tr>\n",
       "      <th>3</th>\n",
       "      <td>2023</td>\n",
       "      <td>Q4</td>\n",
       "      <td>6943.1</td>\n",
       "      <td>1832.7</td>\n",
       "    </tr>\n",
       "    <tr>\n",
       "      <th>4</th>\n",
       "      <td>2024</td>\n",
       "      <td>Q1</td>\n",
       "      <td>6556.8</td>\n",
       "      <td>1684.4</td>\n",
       "    </tr>\n",
       "    <tr>\n",
       "      <th>5</th>\n",
       "      <td>2024</td>\n",
       "      <td>Q2</td>\n",
       "      <td>7323.1</td>\n",
       "      <td>1950.5</td>\n",
       "    </tr>\n",
       "    <tr>\n",
       "      <th>6</th>\n",
       "      <td>2024</td>\n",
       "      <td>Q3</td>\n",
       "      <td>7982.7</td>\n",
       "      <td>2195.0</td>\n",
       "    </tr>\n",
       "    <tr>\n",
       "      <th>7</th>\n",
       "      <td>2024</td>\n",
       "      <td>Q4</td>\n",
       "      <td>8597.8</td>\n",
       "      <td>2465.7</td>\n",
       "    </tr>\n",
       "  </tbody>\n",
       "</table>\n",
       "</div>"
      ],
      "text/plain": [
       "   Year Quarter  Revenue_M     GVA\n",
       "0  2023      Q1     5262.5  1200.6\n",
       "1  2023      Q2     5793.2  1382.5\n",
       "2  2023      Q3     6223.2  1515.5\n",
       "3  2023      Q4     6943.1  1832.7\n",
       "4  2024      Q1     6556.8  1684.4\n",
       "5  2024      Q2     7323.1  1950.5\n",
       "6  2024      Q3     7982.7  2195.0\n",
       "7  2024      Q4     8597.8  2465.7"
      ]
     },
     "execution_count": 47,
     "metadata": {},
     "output_type": "execute_result"
    }
   ],
   "source": [
    "trend_gdp = (\n",
    "    financial_data.groupby([\"Year\", \"Quarter\"])[[\"Revenue_M\", \"GVA\"]]\n",
    "    .sum()\n",
    "    .reset_index()\n",
    "    .sort_values(by=[\"Year\", \"Quarter\"])\n",
    ")\n",
    "trend_gdp\n",
    "\n"
   ]
  },
  {
   "cell_type": "code",
   "execution_count": 49,
   "metadata": {},
   "outputs": [
    {
     "data": {
      "image/png": "[encoded data removed]",
      "text/plain": [
       "<Figure size 500x300 with 1 Axes>"
      ]
     },
     "metadata": {},
     "output_type": "display_data"
    }
   ],
   "source": [
    "import matplotlib.pyplot as plt\n",
    "trend_gdp[\"Period\"] = trend_gdp[\"Quarter\"] + \" FY\" + trend_gdp[\"Year\"].astype(str)\n",
    "\n",
    "\n",
    "plt.figure(figsize=(5, 3))\n",
    "\n",
    "plt.plot(trend_gdp[\"Period\"], trend_gdp[\"Revenue_M\"],\n",
    "         marker='o', label=\"Output (Revenue)\", color='navy')\n",
    "\n",
    "plt.plot(trend_gdp[\"Period\"], trend_gdp[\"GVA\"],\n",
    "         marker='s', label=\"Gross Value Added (GVA)\", color='green')\n",
    "\n",
    "plt.title(\"Company Output vs. Gross Value Added (GVA) Over Time\")\n",
    "plt.xlabel(\"Period\")\n",
    "plt.ylabel(\"Amount (M)\")\n",
    "\n",
    "plt.xticks(rotation=45)\n",
    "plt.legend()\n",
    "plt.grid(True)\n",
    "plt.tight_layout()\n",
    "plt.show()"
   ]
  },
  {
   "cell_type": "code",
   "execution_count": 50,
   "metadata": {},
   "outputs": [
    {
     "data": {
      "text/html": [
       "<div>\n",
       "<style scoped>\n",
       "    .dataframe tbody tr th:only-of-type {\n",
       "        vertical-align: middle;\n",
       "    }\n",
       "\n",
       "    .dataframe tbody tr th {\n",
       "        vertical-align: top;\n",
       "    }\n",
       "\n",
       "    .dataframe thead th {\n",
       "        text-align: right;\n",
       "    }\n",
       "</style>\n",
       "<table border=\"1\" class=\"dataframe\">\n",
       "  <thead>\n",
       "    <tr style=\"text-align: right;\">\n",
       "      <th></th>\n",
       "      <th>Year</th>\n",
       "      <th>Quarter</th>\n",
       "      <th>Revenue_M</th>\n",
       "      <th>GVA</th>\n",
       "    </tr>\n",
       "  </thead>\n",
       "  <tbody>\n",
       "    <tr>\n",
       "      <th>0</th>\n",
       "      <td>2023</td>\n",
       "      <td>Q1</td>\n",
       "      <td>5262.5</td>\n",
       "      <td>1200.6</td>\n",
       "    </tr>\n",
       "    <tr>\n",
       "      <th>1</th>\n",
       "      <td>2023</td>\n",
       "      <td>Q2</td>\n",
       "      <td>5793.2</td>\n",
       "      <td>1382.5</td>\n",
       "    </tr>\n",
       "    <tr>\n",
       "      <th>2</th>\n",
       "      <td>2023</td>\n",
       "      <td>Q3</td>\n",
       "      <td>6223.2</td>\n",
       "      <td>1515.5</td>\n",
       "    </tr>\n",
       "    <tr>\n",
       "      <th>3</th>\n",
       "      <td>2023</td>\n",
       "      <td>Q4</td>\n",
       "      <td>6943.1</td>\n",
       "      <td>1832.7</td>\n",
       "    </tr>\n",
       "    <tr>\n",
       "      <th>4</th>\n",
       "      <td>2024</td>\n",
       "      <td>Q1</td>\n",
       "      <td>6556.8</td>\n",
       "      <td>1684.4</td>\n",
       "    </tr>\n",
       "    <tr>\n",
       "      <th>5</th>\n",
       "      <td>2024</td>\n",
       "      <td>Q2</td>\n",
       "      <td>7323.1</td>\n",
       "      <td>1950.5</td>\n",
       "    </tr>\n",
       "    <tr>\n",
       "      <th>6</th>\n",
       "      <td>2024</td>\n",
       "      <td>Q3</td>\n",
       "      <td>7982.7</td>\n",
       "      <td>2195.0</td>\n",
       "    </tr>\n",
       "    <tr>\n",
       "      <th>7</th>\n",
       "      <td>2024</td>\n",
       "      <td>Q4</td>\n",
       "      <td>8597.8</td>\n",
       "      <td>2465.7</td>\n",
       "    </tr>\n",
       "  </tbody>\n",
       "</table>\n",
       "</div>"
      ],
      "text/plain": [
       "   Year Quarter  Revenue_M     GVA\n",
       "0  2023      Q1     5262.5  1200.6\n",
       "1  2023      Q2     5793.2  1382.5\n",
       "2  2023      Q3     6223.2  1515.5\n",
       "3  2023      Q4     6943.1  1832.7\n",
       "4  2024      Q1     6556.8  1684.4\n",
       "5  2024      Q2     7323.1  1950.5\n",
       "6  2024      Q3     7982.7  2195.0\n",
       "7  2024      Q4     8597.8  2465.7"
      ]
     },
     "execution_count": 50,
     "metadata": {},
     "output_type": "execute_result"
    }
   ],
   "source": [
    "\n",
    "\n",
    "quarterly = (\n",
    "    financial_data.groupby([\"Year\", \"Quarter\"])[[\"Revenue_M\", \"GVA\"]]\n",
    "    .sum()\n",
    "    .reset_index()\n",
    "    .sort_values([\"Year\", \"Quarter\"])\n",
    ")\n",
    "\n",
    "quarterly\n",
    "\n"
   ]
  },
  {
   "cell_type": "code",
   "execution_count": 51,
   "metadata": {},
   "outputs": [
    {
     "data": {
      "text/html": [
       "<div>\n",
       "<style scoped>\n",
       "    .dataframe tbody tr th:only-of-type {\n",
       "        vertical-align: middle;\n",
       "    }\n",
       "\n",
       "    .dataframe tbody tr th {\n",
       "        vertical-align: top;\n",
       "    }\n",
       "\n",
       "    .dataframe thead th {\n",
       "        text-align: right;\n",
       "    }\n",
       "</style>\n",
       "<table border=\"1\" class=\"dataframe\">\n",
       "  <thead>\n",
       "    <tr style=\"text-align: right;\">\n",
       "      <th></th>\n",
       "      <th>Year</th>\n",
       "      <th>Quarter</th>\n",
       "      <th>Revenue_M</th>\n",
       "      <th>GVA</th>\n",
       "      <th>GDP_YoY_%</th>\n",
       "      <th>GVA_YoY_%</th>\n",
       "    </tr>\n",
       "  </thead>\n",
       "  <tbody>\n",
       "    <tr>\n",
       "      <th>0</th>\n",
       "      <td>2023</td>\n",
       "      <td>Q1</td>\n",
       "      <td>5262.5</td>\n",
       "      <td>1200.6</td>\n",
       "      <td>NaN</td>\n",
       "      <td>NaN</td>\n",
       "    </tr>\n",
       "    <tr>\n",
       "      <th>1</th>\n",
       "      <td>2023</td>\n",
       "      <td>Q2</td>\n",
       "      <td>5793.2</td>\n",
       "      <td>1382.5</td>\n",
       "      <td>NaN</td>\n",
       "      <td>NaN</td>\n",
       "    </tr>\n",
       "    <tr>\n",
       "      <th>2</th>\n",
       "      <td>2023</td>\n",
       "      <td>Q3</td>\n",
       "      <td>6223.2</td>\n",
       "      <td>1515.5</td>\n",
       "      <td>NaN</td>\n",
       "      <td>NaN</td>\n",
       "    </tr>\n",
       "    <tr>\n",
       "      <th>3</th>\n",
       "      <td>2023</td>\n",
       "      <td>Q4</td>\n",
       "      <td>6943.1</td>\n",
       "      <td>1832.7</td>\n",
       "      <td>NaN</td>\n",
       "      <td>NaN</td>\n",
       "    </tr>\n",
       "    <tr>\n",
       "      <th>4</th>\n",
       "      <td>2024</td>\n",
       "      <td>Q1</td>\n",
       "      <td>6556.8</td>\n",
       "      <td>1684.4</td>\n",
       "      <td>24.594774</td>\n",
       "      <td>40.296518</td>\n",
       "    </tr>\n",
       "    <tr>\n",
       "      <th>5</th>\n",
       "      <td>2024</td>\n",
       "      <td>Q2</td>\n",
       "      <td>7323.1</td>\n",
       "      <td>1950.5</td>\n",
       "      <td>26.408548</td>\n",
       "      <td>41.084991</td>\n",
       "    </tr>\n",
       "    <tr>\n",
       "      <th>6</th>\n",
       "      <td>2024</td>\n",
       "      <td>Q3</td>\n",
       "      <td>7982.7</td>\n",
       "      <td>2195.0</td>\n",
       "      <td>28.273236</td>\n",
       "      <td>44.836688</td>\n",
       "    </tr>\n",
       "    <tr>\n",
       "      <th>7</th>\n",
       "      <td>2024</td>\n",
       "      <td>Q4</td>\n",
       "      <td>8597.8</td>\n",
       "      <td>2465.7</td>\n",
       "      <td>23.832294</td>\n",
       "      <td>34.539204</td>\n",
       "    </tr>\n",
       "  </tbody>\n",
       "</table>\n",
       "</div>"
      ],
      "text/plain": [
       "   Year Quarter  Revenue_M     GVA  GDP_YoY_%  GVA_YoY_%\n",
       "0  2023      Q1     5262.5  1200.6        NaN        NaN\n",
       "1  2023      Q2     5793.2  1382.5        NaN        NaN\n",
       "2  2023      Q3     6223.2  1515.5        NaN        NaN\n",
       "3  2023      Q4     6943.1  1832.7        NaN        NaN\n",
       "4  2024      Q1     6556.8  1684.4  24.594774  40.296518\n",
       "5  2024      Q2     7323.1  1950.5  26.408548  41.084991\n",
       "6  2024      Q3     7982.7  2195.0  28.273236  44.836688\n",
       "7  2024      Q4     8597.8  2465.7  23.832294  34.539204"
      ]
     },
     "execution_count": 51,
     "metadata": {},
     "output_type": "execute_result"
    }
   ],
   "source": [
    "# Calculate for each quarter\n",
    "quarterly[\"GDP_YoY_%\"] = (\n",
    "    quarterly.groupby(\"Quarter\")[\"Revenue_M\"].pct_change() * 100\n",
    ")\n",
    "quarterly[\"GVA_YoY_%\"] = (\n",
    "    quarterly.groupby(\"Quarter\")[\"GVA\"].pct_change() * 100\n",
    ")\n",
    "\n",
    "quarterly\n"
   ]
  },
  {
   "cell_type": "code",
   "execution_count": 52,
   "metadata": {},
   "outputs": [
    {
     "data": {
      "image/png": "[encoded data removed]",
      "text/plain": [
       "<Figure size 1000x600 with 1 Axes>"
      ]
     },
     "metadata": {},
     "output_type": "display_data"
    }
   ],
   "source": [
    "import matplotlib.pyplot as plt\n",
    "\n",
    "plt.figure(figsize=(10, 6))\n",
    "\n",
    "plt.plot(\n",
    "    quarterly[\"Quarter\"] + \" FY\" + quarterly[\"Year\"].astype(str),\n",
    "    quarterly[\"GDP_YoY_%\"],\n",
    "    label=\"GDP YoY Growth %\", color=\"orange\", marker='o'\n",
    ")\n",
    "plt.plot(\n",
    "    quarterly[\"Quarter\"] + \" FY\" + quarterly[\"Year\"].astype(str),\n",
    "    quarterly[\"GVA_YoY_%\"],\n",
    "    label=\"GVA YoY Growth %\", color=\"blue\", marker='s'\n",
    ")\n",
    "\n",
    "plt.title(\"GDP vs. GVA Year-on-Year Growth % (Quarter-wise)\")\n",
    "plt.xlabel(\"Quarter\")\n",
    "plt.ylabel(\"YoY Growth %\")\n",
    "plt.xticks(rotation=45)\n",
    "plt.axhline(0, color='gray', linestyle='--')\n",
    "plt.legend()\n",
    "plt.grid(True)\n",
    "plt.tight_layout()\n",
    "plt.show()\n",
    "\n"
   ]
  },
  {
   "cell_type": "code",
   "execution_count": null,
   "metadata": {},
   "outputs": [
    {
     "data": {
      "text/html": [
       "<div>\n",
       "<style scoped>\n",
       "    .dataframe tbody tr th:only-of-type {\n",
       "        vertical-align: middle;\n",
       "    }\n",
       "\n",
       "    .dataframe tbody tr th {\n",
       "        vertical-align: top;\n",
       "    }\n",
       "\n",
       "    .dataframe thead th {\n",
       "        text-align: right;\n",
       "    }\n",
       "</style>\n",
       "<table border=\"1\" class=\"dataframe\">\n",
       "  <thead>\n",
       "    <tr style=\"text-align: right;\">\n",
       "      <th></th>\n",
       "      <th>Division</th>\n",
       "      <th>Revenue_M</th>\n",
       "    </tr>\n",
       "  </thead>\n",
       "  <tbody>\n",
       "    <tr>\n",
       "      <th>4</th>\n",
       "      <td>Wayne Foundation</td>\n",
       "      <td>2029.4</td>\n",
       "    </tr>\n",
       "    <tr>\n",
       "      <th>1</th>\n",
       "      <td>Wayne Applied Sciences</td>\n",
       "      <td>7874.5</td>\n",
       "    </tr>\n",
       "    <tr>\n",
       "      <th>2</th>\n",
       "      <td>Wayne Biotech</td>\n",
       "      <td>10059.5</td>\n",
       "    </tr>\n",
       "    <tr>\n",
       "      <th>0</th>\n",
       "      <td>Wayne Aerospace</td>\n",
       "      <td>12804.1</td>\n",
       "    </tr>\n",
       "    <tr>\n",
       "      <th>3</th>\n",
       "      <td>Wayne Construction</td>\n",
       "      <td>21914.9</td>\n",
       "    </tr>\n",
       "  </tbody>\n",
       "</table>\n",
       "</div>"
      ],
      "text/plain": [
       "                 Division  Revenue_M\n",
       "4        Wayne Foundation     2029.4\n",
       "1  Wayne Applied Sciences     7874.5\n",
       "2           Wayne Biotech    10059.5\n",
       "0         Wayne Aerospace    12804.1\n",
       "3      Wayne Construction    21914.9"
      ]
     },
     "execution_count": 58,
     "metadata": {},
     "output_type": "execute_result"
    }
   ],
   "source": [
    "\n",
    "division_revenue = (\n",
    "    financial_data.groupby(\"Division\")[\"Revenue_M\"]\n",
    "    .sum()\n",
    "    .reset_index()\n",
    "    .sort_values(by=\"Revenue_M\", ascending=True)  # sort for nicer bars\n",
    ")\n",
    "division_revenue\n"
   ]
  },
  {
   "cell_type": "code",
   "execution_count": 13,
   "metadata": {},
   "outputs": [
    {
     "name": "stdout",
     "output_type": "stream",
     "text": [
      "<class 'pandas.core.frame.DataFrame'>\n",
      "RangeIndex: 216 entries, 0 to 215\n",
      "Data columns (total 12 columns):\n",
      " #   Column                       Non-Null Count  Dtype  \n",
      "---  ------                       --------------  -----  \n",
      " 0   Department                   216 non-null    object \n",
      " 1   Employee_Level               216 non-null    object \n",
      " 2   Date                         216 non-null    object \n",
      " 3   Retention_Rate_Pct           216 non-null    float64\n",
      " 4   Training_Hours_Annual        216 non-null    int64  \n",
      " 5   Performance_Rating           216 non-null    float64\n",
      " 6   Salary_Band                  216 non-null    object \n",
      " 7   Benefits_Utilization_Pct     216 non-null    float64\n",
      " 8   Security_Clearance_Level     216 non-null    object \n",
      " 9   Internal_Promotions          216 non-null    int64  \n",
      " 10  Diversity_Index              216 non-null    float64\n",
      " 11  Employee_Satisfaction_Score  216 non-null    float64\n",
      "dtypes: float64(5), int64(2), object(5)\n",
      "memory usage: 20.4+ KB\n"
     ]
    }
   ],
   "source": [
    "wayne_hr_analytics=pd.read_csv(\"D:/EDrivebackup/brocamp/techTest/DataAnalysisApp/backend/data/wayne_hr_analytics.csv\")\n",
    "# wayne_financial_data.head()\n",
    "\n",
    "wayne_hr_analytics.info()"
   ]
  },
  {
   "cell_type": "code",
   "execution_count": 14,
   "metadata": {},
   "outputs": [
    {
     "name": "stdout",
     "output_type": "stream",
     "text": [
      "<class 'pandas.core.frame.DataFrame'>\n",
      "RangeIndex: 75 entries, 0 to 74\n",
      "Data columns (total 13 columns):\n",
      " #   Column                       Non-Null Count  Dtype  \n",
      "---  ------                       --------------  -----  \n",
      " 0   Project_ID                   75 non-null     object \n",
      " 1   Project_Name                 75 non-null     object \n",
      " 2   Division                     75 non-null     object \n",
      " 3   Start_Date                   75 non-null     object \n",
      " 4   Status                       75 non-null     object \n",
      " 5   Budget_Allocated_M           75 non-null     float64\n",
      " 6   Budget_Spent_M               75 non-null     float64\n",
      " 7   Research_Category            75 non-null     object \n",
      " 8   Patent_Applications          75 non-null     int64  \n",
      " 9   Commercialization_Potential  75 non-null     object \n",
      " 10  Timeline_Adherence_Pct       75 non-null     float64\n",
      " 11  Lead_Scientist               75 non-null     object \n",
      " 12  Security_Classification      75 non-null     object \n",
      "dtypes: float64(3), int64(1), object(9)\n",
      "memory usage: 7.7+ KB\n"
     ]
    }
   ],
   "source": [
    "wayne_rd_portfolio=pd.read_csv(\"D:/EDrivebackup/brocamp/techTest/DataAnalysisApp/backend/data/wayne_rd_portfolio.csv\")\n",
    "# wayne_financial_data.head()\n",
    "\n",
    "wayne_rd_portfolio.info()"
   ]
  },
  {
   "cell_type": "code",
   "execution_count": 15,
   "metadata": {},
   "outputs": [
    {
     "name": "stdout",
     "output_type": "stream",
     "text": [
      "<class 'pandas.core.frame.DataFrame'>\n",
      "RangeIndex: 108 entries, 0 to 107\n",
      "Data columns (total 10 columns):\n",
      " #   Column                              Non-Null Count  Dtype  \n",
      "---  ------                              --------------  -----  \n",
      " 0   Date                                108 non-null    object \n",
      " 1   District                            108 non-null    object \n",
      " 2   Security_Incidents                  108 non-null    int64  \n",
      " 3   Response_Time_Minutes               108 non-null    float64\n",
      " 4   Wayne_Tech_Deployments              108 non-null    int64  \n",
      " 5   Public_Safety_Score                 108 non-null    float64\n",
      " 6   Infrastructure_Investments_M        108 non-null    float64\n",
      " 7   Crime_Prevention_Effectiveness_Pct  108 non-null    float64\n",
      " 8   Community_Engagement_Events         108 non-null    int64  \n",
      " 9   Employee_Safety_Index               108 non-null    float64\n",
      "dtypes: float64(5), int64(3), object(2)\n",
      "memory usage: 8.6+ KB\n"
     ]
    }
   ],
   "source": [
    "wayne_security_data=pd.read_csv(\"D:/EDrivebackup/brocamp/techTest/DataAnalysisApp/backend/data/wayne_security_data.csv\")\n",
    "# wayne_financial_data.head()\n",
    "\n",
    "wayne_security_data.info()"
   ]
  },
  {
   "cell_type": "code",
   "execution_count": 16,
   "metadata": {},
   "outputs": [
    {
     "name": "stdout",
     "output_type": "stream",
     "text": [
      "<class 'pandas.core.frame.DataFrame'>\n",
      "RangeIndex: 90 entries, 0 to 89\n",
      "Data columns (total 12 columns):\n",
      " #   Column                     Non-Null Count  Dtype  \n",
      "---  ------                     --------------  -----  \n",
      " 0   Facility_Location          90 non-null     object \n",
      " 1   Product_Line               90 non-null     object \n",
      " 2   Date                       90 non-null     object \n",
      " 3   Monthly_Production_Volume  90 non-null     int64  \n",
      " 4   Supply_Chain_Disruptions   90 non-null     int64  \n",
      " 5   Cost_Per_Unit              90 non-null     float64\n",
      " 6   Quality_Score_Pct          90 non-null     float64\n",
      " 7   Sustainability_Rating      90 non-null     object \n",
      " 8   Vendor_Count               90 non-null     int64  \n",
      " 9   Lead_Time_Days             90 non-null     int64  \n",
      " 10  Inventory_Turnover         90 non-null     float64\n",
      " 11  Carbon_Footprint_MT        90 non-null     float64\n",
      "dtypes: float64(4), int64(4), object(4)\n",
      "memory usage: 8.6+ KB\n"
     ]
    }
   ],
   "source": [
    "wayne_supply_chain=pd.read_csv(\"D:/EDrivebackup/brocamp/techTest/DataAnalysisApp/backend/data/wayne_supply_chain.csv\")\n",
    "# wayne_financial_data.head()\n",
    "\n",
    "wayne_supply_chain.info()"
   ]
  }
 ],
 "metadata": {
  "kernelspec": {
   "display_name": "base",
   "language": "python",
   "name": "python3"
  },
  "language_info": {
   "codemirror_mode": {
    "name": "ipython",
    "version": 3
   },
   "file_extension": ".py",
   "mimetype": "text/x-python",
   "name": "python",
   "nbconvert_exporter": "python",
   "pygments_lexer": "ipython3",
   "version": "3.11.5"
  }
 },
 "nbformat": 4,
 "nbformat_minor": 2
}
